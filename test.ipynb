{
 "cells": [
  {
   "cell_type": "code",
   "execution_count": 1,
   "metadata": {
    "collapsed": true
   },
   "outputs": [],
   "source": [
    "import re\n",
    "import numpy as np\n",
    "import matplotlib.pyplot as plt\n",
    "import spacy"
   ]
  },
  {
   "cell_type": "code",
   "execution_count": 28,
   "outputs": [],
   "source": [
    "## Read in the three books ##\n",
    "def read_book(num):\n",
    "    names = ['1_Inkheart.txt', '2_Inkspell.txt', '3_Inkdeath.txt']\n",
    "    with open('./books/'+names[num], 'r') as f:\n",
    "        book = f.read().splitlines()\n",
    "        f.close()\n",
    "    book = [line for line in book if line != '']\n",
    "    return book\n",
    "\n",
    "\n",
    "## For each book, seperate it in chapters ##\n",
    "def chop_chapters(book, reg=r'[0-9]+'):\n",
    "    chapters = {}\n",
    "\n",
    "    first_line = 0\n",
    "    chap_count = 0\n",
    "    for count, line in enumerate(book):\n",
    "        tmp = re.match(reg, line)\n",
    "        if tmp is not None:\n",
    "            chapters[chap_count] = book[first_line:count]\n",
    "            first_line = count\n",
    "            chap_count += 1\n",
    "        elif count == len(book)-1:\n",
    "            chapters[chap_count] = book[first_line:count+1]\n",
    "            first_line = count\n",
    "            chap_count += 1\n",
    "    return chapters\n",
    "\n",
    "\n",
    "# The name of the book is a recurring line which we don't want to take into account\n",
    "def remove_book_name(book, name):\n",
    "    return [line for line in book if name not in line]\n",
    "\n",
    "\n",
    "# In the third book, each chapter begins with the name of the chapter\n",
    "# something that we also don't want to include in our text processing\n",
    "def remove_chapter_name(chap_dict):\n",
    "    for chap_num, chapter in chap_dict.items():\n",
    "        # print(chapter[:2], '|', chapter[2:])\n",
    "        chap_dict[chap_num] = chapter[2:]\n"
   ],
   "metadata": {
    "collapsed": false,
    "pycharm": {
     "name": "#%%\n"
    }
   }
  },
  {
   "cell_type": "code",
   "execution_count": 29,
   "outputs": [],
   "source": [
    "# We read every book and its chapters\n",
    "book1 = read_book(0)\n",
    "book2 = read_book(1)\n",
    "book3 = read_book(2)\n",
    "\n",
    "# We remove the book name references\n",
    "book2 = remove_book_name(book2, 'Ink 2 - Inkspell')\n",
    "book3 = remove_book_name(book3, 'Ink 3 - Inkdeath')\n",
    "\n",
    "# We divide each book in chapters (where book 3 has different chapter names)\n",
    "ch1 = chop_chapters(book1)\n",
    "ch2 = chop_chapters(book2)\n",
    "ch3 = chop_chapters(book3, reg=r'CHAPTER [0-9]+')\n",
    "\n",
    "# And for the third book we remove the chapter names\n",
    "ch3 = remove_chapter_name(ch3)"
   ],
   "metadata": {
    "collapsed": false,
    "pycharm": {
     "name": "#%%\n"
    }
   }
  },
  {
   "cell_type": "code",
   "execution_count": 30,
   "outputs": [],
   "source": [
    "# In the first book, each chapter starts with a poem or quote\n",
    "# The author is always quoted with '- [author]' so we can separate it easily\n",
    "for ch_count, chapter in ch1.items():\n",
    "    for count, line in enumerate(chapter):\n",
    "        if line[0] == '-':\n",
    "            # print(ch_count, '\\n', chapter[count] + '\\n', chapter[count+1:])\n",
    "            # We set the chapter to the text WITHOUT the poem\n",
    "            ch1[ch_count] = chapter[count+1:]\n",
    "            # No need to check more lines in this chapter\n",
    "            break"
   ],
   "metadata": {
    "collapsed": false,
    "pycharm": {
     "name": "#%%\n"
    }
   }
  },
  {
   "cell_type": "code",
   "execution_count": 31,
   "outputs": [],
   "source": [
    "for ch_count, chapter in ch2.items():\n",
    "    for count, line in enumerate(chapter):\n",
    "        if line[0] == '-':\n",
    "            # print(ch_count, '\\n', chapter[count] + '\\n', chapter[count+1:])\n",
    "            ch2[ch_count] = chapter[count+1:]\n",
    "            break\n",
    "\n"
   ],
   "metadata": {
    "collapsed": false,
    "pycharm": {
     "name": "#%%\n"
    }
   }
  },
  {
   "cell_type": "code",
   "execution_count": 32,
   "outputs": [
    {
     "name": "stdout",
     "output_type": "stream",
     "text": [
      "CHAPTER 1\n",
      "NOTHING BUT A DOG AND A SHEET OF PAPER\n",
      "Moonlight fell on Elinor’s bathrobe, her nightdress, her bare feet, and the dog lying in front of them. Orpheus’s dog. Oh, the way he looked at her with his eternally sad eyes! As if asking himself why, in the name of all the exciting smells in the world, she was sitting in her library in the middle of the night, surrounded by silent books, just staring into space.\n",
      "“Why?” said Elinor in the silence. “Because I can’t sleep, you stupid animal.” But she patted his head all the same. This is what you’ve come to, Elinor, she thought as she hauled herself out of her armchair. Spending your nights talking to a dog. You don’t even like dogs, least of all this one, with his heavy breathing that always reminds you of his appalling master!\n",
      "Still, she had kept the dog in spite of the painful memories he brought back. She’d kept the chair, too, even though the Magpie had sat in it. Mortola . . . how often Elinor thought she heard the old woman’s voice when she went into the quiet library, how often she seemed to see Mortimer and Resa standing among the bookshelves, or Meggie sitting by the window with a book on her lap, face hidden behind her smooth, bright hair. . . .\n",
      "Memories. They were all she had left. No more tangible than the pictures conjured up by books. But what would be left if she lost those memories, too? Then she’d be alone again forever with the silence and the emptiness in her heart. And an ugly dog. Her feet looked so old in the pale moonlight. Moonlight! she thought, wiggling her toes in it. In many stories moonlight had magical powers. All lies. Her whole head was full of printed lies. She couldn’t even look at the moon with eyes unclouded by veils of letters. Couldn’t she wipe all those words out of her head and heart, and see the world through her own eyes again, at least once?\n",
      "Heavens, Elinor, what a fabulous mood you’re in, she thought as she made her way over to the glass case where she kept everything that Orpheus had left behind, apart from his dog. Wallowing in self-pity, like that stupid dog rolling over in every puddle.\n",
      "The sheet of paper that lay behind the glass looked like noth?ing special, just an ordinary piece of lined paper densely written in pale blue ink. Not to be compared with the magnificently illuminated books in the other display cases — even though the tracing of every letter showed how very impressed Orpheus was with himself. I hope the fire-elves have burned that self-satisfied smile off his lips, thought Elinor as she opened the glass case. I hope the men-at-arms have skewered him — or, even better, I hope he’s starved to death in the Wayless Wood, miserably and very, very slowly. It wasn’t the first time she had pictured to herself Orpheus’s wretched end in the Jnkworld. These images gave her lonely heart more pleasure than almost anything.\n",
      "The sheet of paper was already yellowing. To add insult to injury, it was cheap stuff And the words on it really didn’t look as though they could have spirited their writer away to another world right before Elinor’s eyes. Three photographs lay beside the sheet of paper — one of Meggie and two of Resa a photo of her as a child and another taken only a few months ago, with Mortimer beside her, both of them smiling so happily! Hardly a night went by when Elinor didn’t look at those photographs. By now, at least, the tears had stopped running down her cheeks when she did so, but hey were still there in her heart. Bitter tears. Her heart was full to the brim with them, a horrible feeling.\n",
      "Lost.\n",
      "Meggie.\n",
      "Resa.\n",
      "Mortimer.\n",
      "Almost three months had passed since their disappearance. In fact, Meggie had even been gone a few days longer than her parents. . . .\n",
      "The dog stretched and came trotting drowsily over to her. He pushed his nose into her bathrobe pocket, knowing there were always a few dog biscuits in it for him.\n",
      "“Yes, all right, all right,” she murmured, shoving one of the smelly little things into his broad muzzle. “Where’s your master, then?” She held the sheet of paper in front of his nose, and the stupid creature sniffed it as if he really could catch Orpheus’s scent behind the words on the page.\n",
      "Elinor stared at the words, shaping them with her lips. In the streets of Ombra . . . She’d stood here so often over the last few weeks, surrounded by books that meant nothing to her; now she was once again alone with them. They didn’t speak to her, just as if they knew that she’d have exchanged them all on the spot for the three people she had lost. Lost in a book.\n",
      "“I will learn how, damn it!” Her voice sounded defiant, like a child’s. “I’ll learn how to read them so that they’ll swallow me up, too, I will, I will!”\n",
      "The dog was looking at her as if he believed every word of it, but Elinor didn’t, not a single one. No, she was no Silvertongue. Even if she tried for a dozen years or more, the words wouldn’t make music when she spoke them. She’d loved words so much all her life. Although they didn’t sing for her the way they sang for Meggie or Mortimer — or Orpheus, damn him three times over.\n",
      "The piece of paper shook in her fingers as she started to cry. Here came the tears again. She’d held them back for so long, all the tears in her heart, until it was simply overflowing with them. Elinor’s sobs were so loud that the dog cowered in alarm. How ridiculous that water ran out of your eyes when your heart hurt. Tragic heroines in books tended to be amazingly beautiful. Not a word about swollen eyes or a red nose. Crying always gives me a red nose, thought Elinor. I expect that’s why I’ll never be in any book.\n",
      "“Elinor?”\n",
      "She spun around, hastily wiping away her tears.\n",
      "Darius stood in the open doorway, wearing the bathrobe that she had given him for his last birthday. It was much too large for him.\n",
      "“What is it?” she snapped. Where had that handkerchief gone this time? Sniffing, she pulled it from her sleeve and blew her nose. “Three months, they’ve been gone three months now, Darius! Isn’t that a good reason to cry? Yes, it is. Don’t look at me so pityingly with your owlish eyes. Never mind how many books we buy,” she said, with a wide sweep of her arm toward her well-filled shelves, “never mind how many we get at auctions, swap, or steal—not one of them tells me what I want to know! Thousands of pages, and not a word on any of them with news of the only people I want to know about. Why would I be interested in anything else? Theirs is the only story I want to hear! How is Meggie now, do you think? How are Resa and Mortimer? Are they happy, Darius? Are they still alive? Will I ever see them again?”\n",
      "Darius looked along the books, as if the answer might after all be found in one of them. But then, like all those printed pages, he gave her no answer.\n",
      "“I’ll make you some hot milk and honey,” he said at last, disappearing into the kitchen.\n",
      "And Elinor was alone again with the books, the moonlight, and Orpheus’s ugly dog.\n"
     ]
    }
   ],
   "source": [
    "for ch_count, chapter in ch3.items():\n",
    "    if ch_count == 1:\n",
    "        for count, line in enumerate(chapter):\n",
    "            print(line)\n"
   ],
   "metadata": {
    "collapsed": false,
    "pycharm": {
     "name": "#%%\n"
    }
   }
  },
  {
   "cell_type": "code",
   "execution_count": 50,
   "outputs": [
    {
     "name": "stdout",
     "output_type": "stream",
     "text": [
      "Chapter 56 ['In books hatred is often described as hot, but at Capricorn\\'s festivities Meggie discovered it was cold - an ice-cold hand that stops the heart and presses it like a clenched fist against the ribs. Hatred made her freeze, in spite of the mild air wafting around her, telling her that the world was a good, safe place. She knew it was not - as the bloody cloth on which the smiling Capricorn had laid his ringed hand showed all too clearly. \"Well, so much for that!\" he cried. \"And now for the real reason we are all gathered here tonight. Not only are we about to punish the traitors but we\\'re also going to celebrate a reunion with an old friend. Some of you may remember him, and as for the others, I promise that once you have met him you will never forget him.\"', \"Cockerell twisted his thin face into a sour smile. He was obviously not looking forward to the reunion and, at Capricorn's words, alarm showed on several other faces.\"]\n",
      "Chapter 69 ['It was the last night before the day when the Adderhead would show his clemency. In a few hours, just before dawn, they would all be in position by the road. None of the informers had been able to say exactly when the prisoners were to come down it - they knew only that this would be the day. The robbers were sitting together, telling one another tales of old adventures in loud voices. Presumably that was their means of keeping fear at bay, but Dustfinger did not feel like either talking or listening. He kept waking suddenly from sleep, but not because of the voices that came to his ears. Pictures in his mind woke him, terrible pictures that had been robbing him of sleep for days.', 'This time they had been particularly bad, and so real that he started up as if Gwin had jumped on his chest. His heart was still thudding hard as he sat there staring into the dark. Dreams - in the other world they had often kept him from sleeping, too, but he couldn’t remember any of them as bad as this one. “It’s the dead. They bring bad dreams,” Farid always said. “They whisper terrible things to you, and then they lie on your breast to feel your racing heart. It makes them feel alive again!”']\n",
      "Chapter 44 ['Well, what else was it? Even the Black Prince was anxious about Mo. He had decided to follow Violante to the Castle in the Lake with a few men. He was going to set off tomorrow, but he wouldn’t take Resa and Meggie with him. “Of course not,” Meggie’s mother had whispered bitterly. \"This world belongs to men.', 'Meggie picked up the wooden spoon that Doria had carved for her (it was a very good spoon) and listlessly stirred the soup. Jasper peered at it longingly. Of course. Glass men loved human food, although it wasn’t good for them. Jasper was spending more and more time with Doria, even though Farid was back. Meggie wasn’t surprised. Farid had been far from talkative since Dustfinger sent him away again. Most of the time he walked restlessly in the surrounding hills or tried to call up pictures in the fire. So far Roxane had looked into the flames only once. “Thank you,” she had said to Farid afterward, her voice cool. “But I’d rather go on listening to my heart. It usually tells me whether he’s all right.”']\n"
     ]
    }
   ],
   "source": [
    "import random\n",
    "## Check everything we did above ##\n",
    "for ch in [ch1, ch2, ch3]:\n",
    "    random_chap = random.randint(0, len(ch))\n",
    "    print('Chapter {}'.format(random_chap), ch[random_chap][:2])"
   ],
   "metadata": {
    "collapsed": false,
    "pycharm": {
     "name": "#%%\n"
    }
   }
  }
 ],
 "metadata": {
  "kernelspec": {
   "display_name": "Python 3",
   "language": "python",
   "name": "python3"
  },
  "language_info": {
   "codemirror_mode": {
    "name": "ipython",
    "version": 2
   },
   "file_extension": ".py",
   "mimetype": "text/x-python",
   "name": "python",
   "nbconvert_exporter": "python",
   "pygments_lexer": "ipython2",
   "version": "2.7.6"
  }
 },
 "nbformat": 4,
 "nbformat_minor": 0
}